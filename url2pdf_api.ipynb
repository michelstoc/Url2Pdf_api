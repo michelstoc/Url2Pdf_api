{
  "nbformat": 4,
  "nbformat_minor": 0,
  "metadata": {
    "colab": {
      "provenance": [],
      "authorship_tag": "ABX9TyMwwaGsjLvvC/yoBxghGRmd",
      "include_colab_link": true
    },
    "kernelspec": {
      "name": "python3",
      "display_name": "Python 3"
    },
    "language_info": {
      "name": "python"
    }
  },
  "cells": [
    {
      "cell_type": "markdown",
      "metadata": {
        "id": "view-in-github",
        "colab_type": "text"
      },
      "source": [
        "<a href=\"https://colab.research.google.com/github/michelstoc/Url2Pdf_api/blob/main/url2pdf_api.ipynb\" target=\"_parent\"><img src=\"https://colab.research.google.com/assets/colab-badge.svg\" alt=\"Open In Colab\"/></a>"
      ]
    },
    {
      "cell_type": "code",
      "source": [
        "!apt-get update \n",
        "!apt-get install -y xvfb libfontconfig wkhtmltopdf\n"
      ],
      "metadata": {
        "id": "jq-9gQh6cu7r"
      },
      "execution_count": null,
      "outputs": []
    },
    {
      "cell_type": "markdown",
      "source": [
        "**Sur Windows**, l'installation de wkhtmltopdf nécessite le téléchargement et l'installation manuels de l'exécutable. Voici comment vous pouvez faire cela :\n",
        "\n",
        "Allez sur la page de téléchargement de wkhtmltopdf à l'adresse suivante : https://wkhtmltopdf.org/downloads.html\n",
        "Sous \"Microsoft Windows\", cliquez sur le lien \"64-bit\" ou \"32-bit\" selon votre système d'exploitation.\n",
        "Téléchargez le fichier .exe et suivez les instructions d'installation.\n",
        "Après avoir installé wkhtmltopdf, vous devez vous assurer que l'exécutable est dans votre PATH. Pour vérifier cela, ouvrez une nouvelle invite de commande et tapez wkhtmltopdf. Si l'installation a réussi, vous devriez voir une sortie indiquant la version de wkhtmltopdf. Sinon, vous devrez ajouter le chemin de l'exécutable à votre PATH."
      ],
      "metadata": {
        "id": "J3R9mOlCmqSx"
      }
    },
    {
      "cell_type": "code",
      "execution_count": null,
      "metadata": {
        "colab": {
          "base_uri": "https://localhost:8080/"
        },
        "id": "Zd-MvuXrYktE",
        "outputId": "0c007ec9-a95a-4c19-fbec-dc0b051a0442"
      },
      "outputs": [
        {
          "output_type": "stream",
          "name": "stdout",
          "text": [
            "Looking in indexes: https://pypi.org/simple, https://us-python.pkg.dev/colab-wheels/public/simple/\n",
            "Requirement already satisfied: requests in /usr/local/lib/python3.10/dist-packages (2.27.1)\n",
            "Collecting pdfkit\n",
            "  Downloading pdfkit-1.0.0-py3-none-any.whl (12 kB)\n",
            "Requirement already satisfied: beautifulsoup4 in /usr/local/lib/python3.10/dist-packages (4.11.2)\n",
            "Requirement already satisfied: flask in /usr/local/lib/python3.10/dist-packages (2.2.4)\n",
            "Requirement already satisfied: urllib3<1.27,>=1.21.1 in /usr/local/lib/python3.10/dist-packages (from requests) (1.26.15)\n",
            "Requirement already satisfied: certifi>=2017.4.17 in /usr/local/lib/python3.10/dist-packages (from requests) (2022.12.7)\n",
            "Requirement already satisfied: charset-normalizer~=2.0.0 in /usr/local/lib/python3.10/dist-packages (from requests) (2.0.12)\n",
            "Requirement already satisfied: idna<4,>=2.5 in /usr/local/lib/python3.10/dist-packages (from requests) (3.4)\n",
            "Requirement already satisfied: soupsieve>1.2 in /usr/local/lib/python3.10/dist-packages (from beautifulsoup4) (2.4.1)\n",
            "Requirement already satisfied: Werkzeug>=2.2.2 in /usr/local/lib/python3.10/dist-packages (from flask) (2.3.0)\n",
            "Requirement already satisfied: Jinja2>=3.0 in /usr/local/lib/python3.10/dist-packages (from flask) (3.1.2)\n",
            "Requirement already satisfied: itsdangerous>=2.0 in /usr/local/lib/python3.10/dist-packages (from flask) (2.1.2)\n",
            "Requirement already satisfied: click>=8.0 in /usr/local/lib/python3.10/dist-packages (from flask) (8.1.3)\n",
            "Requirement already satisfied: MarkupSafe>=2.0 in /usr/local/lib/python3.10/dist-packages (from Jinja2>=3.0->flask) (2.1.2)\n",
            "Installing collected packages: pdfkit\n",
            "Successfully installed pdfkit-1.0.0\n"
          ]
        }
      ],
      "source": [
        "!pip install requests pdfkit beautifulsoup4 flask\n"
      ]
    },
    {
      "cell_type": "code",
      "source": [
        "from flask import Flask, request, send_file\n",
        "from bs4 import BeautifulSoup\n",
        "import urllib.parse\n",
        "import requests\n",
        "import pdfkit"
      ],
      "metadata": {
        "id": "cNZ0WUdWZd7a"
      },
      "execution_count": null,
      "outputs": []
    },
    {
      "cell_type": "code",
      "source": [
        "app = Flask(__name__)\n",
        "\n",
        "@app.route('/url_to_pdf', methods=['GET'])\n",
        "def url_to_pdf():\n",
        "    url = request.args.get('url')\n",
        "    if not url:\n",
        "        return \"URL parameter is missing. Please provide an URL.\", 400\n",
        "\n",
        "    # Fetch HTML content\n",
        "    response = requests.get(url)\n",
        "    html_content = response.text\n",
        "\n",
        "    # Parse HTML content\n",
        "    soup = BeautifulSoup(html_content, 'html.parser')\n",
        "\n",
        "    # Search all img elements\n",
        "    for img in soup.find_all('img'):\n",
        "        # Check if src attribute exists\n",
        "        if 'src' in img.attrs:\n",
        "            # Convert relative path to absolute\n",
        "            img['src'] = urllib.parse.urljoin(url, img['src'])\n",
        "\n",
        "    # Search all a (link) elements\n",
        "    for a in soup.find_all('a'):\n",
        "        # Check if href attribute exists\n",
        "        if 'href' in a.attrs:\n",
        "            # Convert relative path to absolute\n",
        "            a['href'] = urllib.parse.urljoin(url, a['href'])\n",
        "\n",
        "    # Convert the soup back into a string\n",
        "    html_content = str(soup)\n",
        "\n",
        "    # Convert to PDF\n",
        "    path_wkhtmltopdf = '/usr/bin/wkhtmltopdf'\n",
        "    config = pdfkit.configuration(wkhtmltopdf=path_wkhtmltopdf)\n",
        "\n",
        "    try:\n",
        "        pdf = pdfkit.from_string(html_content, False, configuration=config)\n",
        "        return send_file(pdf, mimetype='application/pdf')\n",
        "    except Exception as e:\n",
        "        return str(e), 500\n",
        "\n",
        "if __name__ == \"__main__\":\n",
        "    app.run(port=5000)\n"
      ],
      "metadata": {
        "colab": {
          "base_uri": "https://localhost:8080/"
        },
        "id": "cgffxEiTiN_i",
        "outputId": "59f6390f-3a80-44a0-f912-0e793575c0a5"
      },
      "execution_count": null,
      "outputs": [
        {
          "output_type": "stream",
          "name": "stdout",
          "text": [
            " * Serving Flask app '__main__'\n",
            " * Debug mode: off\n"
          ]
        },
        {
          "output_type": "stream",
          "name": "stderr",
          "text": [
            "INFO:werkzeug:\u001b[31m\u001b[1mWARNING: This is a development server. Do not use it in a production deployment. Use a production WSGI server instead.\u001b[0m\n",
            " * Running on http://127.0.0.1:5000\n",
            "INFO:werkzeug:\u001b[33mPress CTRL+C to quit\u001b[0m\n"
          ]
        }
      ]
    }
  ]
}